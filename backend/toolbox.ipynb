{
 "cells": [
  {
   "cell_type": "code",
   "execution_count": null,
   "metadata": {},
   "outputs": [],
   "source": [
    "import requests\n",
    "\n",
    "def get_taginfo_data(tag_key):\n",
    "    response = requests.get(f\"https://taginfo.openstreetmap.org/api/4/key/values?key={tag_key}\")\n",
    "    data = response.json()\n",
    "    return data\n",
    "\n",
    "# Get taginfo data for 'highway' tag\n",
    "taginfo_data = sorted(get_taginfo_data('highway')[\"data\"], key=lambda x: x[\"count\"])\n",
    "\n",
    "# Print the most used keys for 'highway' tag\n",
    "for data in taginfo_data:\n",
    "    print(f\"Key: {data['value']}, Count: {data['count']}\")\n",
    "\n",
    "\"\"\"\n",
    "User: Generate a heatmap which shows the distance to the nearest fire station.\n",
    "\n",
    "bot:\n",
    "- locate fire stations\n",
    "    - find queries which may correspond to fire stations\n",
    "        - ask: what overpass tags/keys can be used to locate fire stations?\n",
    "    - for each query, get overpass results\n",
    "    - ask: which query gave the best results?\n",
    "- create dataset of distances to fire stations from each geocode\n",
    "    - ask: write a python script that generates a list of the distance to the nearest fire station from each geocode\n",
    "- create heatmap of distances to fire stations\n",
    "    - ask: write a python script which normalizes the distances linearly to a value betwen 0 and 1\n",
    "\"\"\""
   ]
  },
  {
   "cell_type": "code",
   "execution_count": 1,
   "metadata": {},
   "outputs": [
    {
     "name": "stdout",
     "output_type": "stream",
     "text": [
      "{'a': '161 Strathearn Road, York, Ontario M6C 1R7, Canada', 'g': (43.6957623, -79.4334541)}\n"
     ]
    }
   ],
   "source": [
    "import finder\n",
    "\n",
    "print(finder.geocode_to_address((43.69577959255118, -79.43348327443192)))"
   ]
  }
 ],
 "metadata": {
  "kernelspec": {
   "display_name": "Python 3",
   "language": "python",
   "name": "python3"
  },
  "language_info": {
   "codemirror_mode": {
    "name": "ipython",
    "version": 3
   },
   "file_extension": ".py",
   "mimetype": "text/x-python",
   "name": "python",
   "nbconvert_exporter": "python",
   "pygments_lexer": "ipython3",
   "version": "3.10.12"
  }
 },
 "nbformat": 4,
 "nbformat_minor": 2
}
