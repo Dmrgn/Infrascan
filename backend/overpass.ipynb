{
 "cells": [
  {
   "cell_type": "markdown",
   "metadata": {},
   "source": [
    "# Infrascan Area Scanning Tool\n",
    "\n",
    "This file allows an entire area of geocodes to by analyzed.\n",
    "The score of each geocode is saved and a heatmap of the geocodes is generated."
   ]
  },
  {
   "cell_type": "code",
   "execution_count": 1,
   "metadata": {},
   "outputs": [],
   "source": [
    "import urllib\n",
    "import requests\n",
    "import json\n",
    "import math\n",
    "import msgpack\n",
    "import random\n",
    "import numpy as np\n",
    "import matplotlib.pyplot as plt\n",
    "from staticmap import StaticMap, CircleMarker\n",
    "from multiprocessing import Pool\n",
    "\n",
    "from constants import *\n",
    "import overpass"
   ]
  },
  {
   "cell_type": "code",
   "execution_count": 2,
   "metadata": {},
   "outputs": [],
   "source": [
    "with open(\"./research_data/final_geocodes.msgpack\", \"rb\") as f:\n",
    "    geocodes = msgpack.load(f)\n",
    "    formatted_geocodes = [(g[\"g\"][\"lat\"], g[\"g\"][\"lng\"]) for g in geocodes]"
   ]
  },
  {
   "cell_type": "code",
   "execution_count": null,
   "metadata": {},
   "outputs": [],
   "source": [
    "# this doesnt work anymore for some reason\n",
    "# multithreading is broken and it takes days to run without it\n",
    "\n",
    "# multithreading is very finicky,\n",
    "# may have to run multiple times\n",
    "processes_pool = Pool(5)\n",
    "\n",
    "analyzed = []\n",
    "num = 0\n",
    "\n",
    "def threaded_analysis(geocode):\n",
    "    anal = overpass.analyze_geocode(geocode)\n",
    "    anal[\"geocode\"] = geocode\n",
    "    analyzed.append(anal)\n",
    "    num+=1\n",
    "    print(num, \"/\", len(formatted_geocodes))\n",
    "    return anal\n",
    "\n",
    "analyzed = processes_pool.map(threaded_analysis, formatted_geocodes)"
   ]
  },
  {
   "cell_type": "code",
   "execution_count": 15,
   "metadata": {},
   "outputs": [],
   "source": [
    "scores = sorted(analyzed, key=lambda x: x[\"score\"])\n",
    "with open(\"./research_data/new_network_score.msgpack\", \"wb\") as f:\n",
    "    msgpack.dump(scores, f)"
   ]
  },
  {
   "cell_type": "code",
   "execution_count": 16,
   "metadata": {},
   "outputs": [
    {
     "ename": "ZeroDivisionError",
     "evalue": "division by zero",
     "output_type": "error",
     "traceback": [
      "\u001b[0;31m---------------------------------------------------------------------------\u001b[0m",
      "\u001b[0;31mZeroDivisionError\u001b[0m                         Traceback (most recent call last)",
      "\u001b[1;32m/home/daniel/Desktop/Coding/websites/infrascan/backend/overpass.ipynb Cell 6\u001b[0m line \u001b[0;36m1\n\u001b[1;32m      <a href='vscode-notebook-cell:/home/daniel/Desktop/Coding/websites/infrascan/backend/overpass.ipynb#W5sZmlsZQ%3D%3D?line=8'>9</a>\u001b[0m \u001b[39mfor\u001b[39;00m score \u001b[39min\u001b[39;00m scores:\n\u001b[1;32m     <a href='vscode-notebook-cell:/home/daniel/Desktop/Coding/websites/infrascan/backend/overpass.ipynb#W5sZmlsZQ%3D%3D?line=9'>10</a>\u001b[0m     avg_geocode \u001b[39m=\u001b[39m (avg_geocode[\u001b[39m0\u001b[39m] \u001b[39m+\u001b[39m score[\u001b[39m\"\u001b[39m\u001b[39mgeocode\u001b[39m\u001b[39m\"\u001b[39m][\u001b[39m0\u001b[39m], avg_geocode[\u001b[39m1\u001b[39m] \u001b[39m+\u001b[39m score[\u001b[39m\"\u001b[39m\u001b[39mgeocode\u001b[39m\u001b[39m\"\u001b[39m][\u001b[39m1\u001b[39m])\n\u001b[0;32m---> <a href='vscode-notebook-cell:/home/daniel/Desktop/Coding/websites/infrascan/backend/overpass.ipynb#W5sZmlsZQ%3D%3D?line=10'>11</a>\u001b[0m avg_geocode \u001b[39m=\u001b[39m (avg_geocode[\u001b[39m0\u001b[39;49m]\u001b[39m/\u001b[39;49m\u001b[39mlen\u001b[39;49m(scores), avg_geocode[\u001b[39m1\u001b[39m]\u001b[39m/\u001b[39m\u001b[39mlen\u001b[39m(scores))\n\u001b[1;32m     <a href='vscode-notebook-cell:/home/daniel/Desktop/Coding/websites/infrascan/backend/overpass.ipynb#W5sZmlsZQ%3D%3D?line=12'>13</a>\u001b[0m \u001b[39m# draw each geocode's results as a colored dot\u001b[39;00m\n\u001b[1;32m     <a href='vscode-notebook-cell:/home/daniel/Desktop/Coding/websites/infrascan/backend/overpass.ipynb#W5sZmlsZQ%3D%3D?line=13'>14</a>\u001b[0m \u001b[39mfor\u001b[39;00m score \u001b[39min\u001b[39;00m scores:\n\u001b[1;32m     <a href='vscode-notebook-cell:/home/daniel/Desktop/Coding/websites/infrascan/backend/overpass.ipynb#W5sZmlsZQ%3D%3D?line=14'>15</a>\u001b[0m     \u001b[39m# skip geocodes more that 15km away from the average location\u001b[39;00m\n",
      "\u001b[0;31mZeroDivisionError\u001b[0m: division by zero"
     ]
    }
   ],
   "source": [
    "m = StaticMap(1000, 1000)\n",
    "\n",
    "def color(score, alpha):\n",
    "    dist = (100-abs((100-score) - (score)))/100 + 0.5\n",
    "    return f\"rgba({int(max((100-score)/100*255*dist, 0))}, {int(max((score-20)/100*255*dist, 0))}, 0, {alpha})\"\n",
    "\n",
    "# compute the average geocode\n",
    "avg_geocode = (0, 0)\n",
    "for score in scores:\n",
    "    avg_geocode = (avg_geocode[0] + score[\"geocode\"][0], avg_geocode[1] + score[\"geocode\"][1])\n",
    "avg_geocode = (avg_geocode[0]/len(scores), avg_geocode[1]/len(scores))\n",
    "\n",
    "# draw each geocode's results as a colored dot\n",
    "for score in scores:\n",
    "    # skip geocodes more that 15km away from the average location\n",
    "    if overpass.geo_distance(avg_geocode, score[\"geocode\"]) > 15: continue\n",
    "    for i in range(10):\n",
    "        marker = CircleMarker((score[\"geocode\"][1]+(random.random()*2-1)/200, score[\"geocode\"][0]+(random.random()*2-1)/200), color(score[\"score\"], 200), 20)\n",
    "        m.add_marker(marker)\n",
    "    marker = CircleMarker((score[\"geocode\"][1], score[\"geocode\"][0]), color(score[\"score\"], 200), 40)\n",
    "    m.add_marker(marker)\n",
    "\n",
    "image = m.render(zoom=12)\n",
    "image.save('marker.png')"
   ]
  }
 ],
 "metadata": {
  "kernelspec": {
   "display_name": "Python 3",
   "language": "python",
   "name": "python3"
  },
  "language_info": {
   "codemirror_mode": {
    "name": "ipython",
    "version": 3
   },
   "file_extension": ".py",
   "mimetype": "text/x-python",
   "name": "python",
   "nbconvert_exporter": "python",
   "pygments_lexer": "ipython3",
   "version": "3.10.12"
  }
 },
 "nbformat": 4,
 "nbformat_minor": 2
}
